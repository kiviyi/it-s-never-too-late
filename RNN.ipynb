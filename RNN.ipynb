{
  "cells": [
    {
      "cell_type": "markdown",
      "metadata": {
        "id": "ynZTVoHwitTH"
      },
      "source": [
        "Импорт библиотек"
      ]
    },
    {
      "cell_type": "code",
      "execution_count": 5,
      "metadata": {
        "id": "7Bvt0fZGitTJ"
      },
      "outputs": [],
      "source": [
        "import torch\n",
        "import torch.nn as nn\n",
        "import numpy as np"
      ]
    },
    {
      "cell_type": "markdown",
      "metadata": {
        "id": "BblynsaxitTK"
      },
      "source": [
        "Установка параметров для нейронной сети"
      ]
    },
    {
      "cell_type": "code",
      "execution_count": 6,
      "metadata": {
        "id": "467YGNHjitTK"
      },
      "outputs": [],
      "source": [
        "BATCH_SIZE = 64\n",
        "SEQ_LENGTH = 100\n",
        "BUFFER_SIZE = 10000\n",
        "EPOCHS = 10"
      ]
    },
    {
      "cell_type": "markdown",
      "metadata": {
        "id": "2Je-AtAwitTK"
      },
      "source": [
        "Загрузка и обработка данных\n"
      ]
    },
    {
      "cell_type": "code",
      "execution_count": 7,
      "metadata": {
        "colab": {
          "base_uri": "https://localhost:8080/",
          "height": 35
        },
        "id": "fEqwIXg1itTL",
        "outputId": "1594e5a3-8bfa-4f4d-b0ca-09ace9c870e6"
      },
      "outputs": [
        {
          "output_type": "execute_result",
          "data": {
            "text/plain": [
              "'451° по Фаренгейту – температура, при которой воспламеняется и горит бумага.'"
            ],
            "application/vnd.google.colaboratory.intrinsic+json": {
              "type": "string"
            }
          },
          "metadata": {},
          "execution_count": 7
        }
      ],
      "source": [
        "path_to_file = '451.txt'\n",
        "with open(path_to_file, 'r', encoding='windows-1251') as f:\n",
        "    text = f.read()\n",
        "\n",
        "text[86:162]"
      ]
    },
    {
      "cell_type": "markdown",
      "metadata": {
        "id": "zkgjt85FitTL"
      },
      "source": [
        "Подсчет количества уникальных символов\n"
      ]
    },
    {
      "cell_type": "code",
      "execution_count": 8,
      "metadata": {
        "colab": {
          "base_uri": "https://localhost:8080/"
        },
        "id": "m0noAWFgitTL",
        "outputId": "fafbef18-d540-447d-948e-dacd73d923cd"
      },
      "outputs": [
        {
          "output_type": "execute_result",
          "data": {
            "text/plain": [
              "98"
            ]
          },
          "metadata": {},
          "execution_count": 8
        }
      ],
      "source": [
        "vocab = sorted(set(text))\n",
        "vocab_size = len(vocab)\n",
        "\n",
        "vocab_size"
      ]
    },
    {
      "cell_type": "markdown",
      "metadata": {
        "id": "SvOALrPTitTM"
      },
      "source": [
        "Создание словарей для преобразования символов в индексы и обратно\n"
      ]
    },
    {
      "cell_type": "code",
      "execution_count": 9,
      "metadata": {
        "colab": {
          "base_uri": "https://localhost:8080/"
        },
        "id": "__EHiOakitTM",
        "outputId": "4fade2b6-60d6-4c05-a258-35042a7cee91"
      },
      "outputs": [
        {
          "output_type": "execute_result",
          "data": {
            "text/plain": [
              "{'\\n': 0,\n",
              " ' ': 1,\n",
              " '!': 2,\n",
              " '(': 3,\n",
              " ')': 4,\n",
              " ',': 5,\n",
              " '-': 6,\n",
              " '.': 7,\n",
              " '0': 8,\n",
              " '1': 9,\n",
              " '2': 10,\n",
              " '3': 11,\n",
              " '4': 12,\n",
              " '5': 13,\n",
              " '6': 14,\n",
              " '7': 15,\n",
              " '8': 16,\n",
              " '9': 17,\n",
              " ':': 18,\n",
              " ';': 19,\n",
              " '?': 20,\n",
              " 'I': 21,\n",
              " 'P': 22,\n",
              " '[': 23,\n",
              " ']': 24,\n",
              " 'b': 25,\n",
              " 'c': 26,\n",
              " 'e': 27,\n",
              " 'k': 28,\n",
              " 'o': 29,\n",
              " 't': 30,\n",
              " '\\xa0': 31,\n",
              " '«': 32,\n",
              " '°': 33,\n",
              " '»': 34,\n",
              " 'А': 35,\n",
              " 'Б': 36,\n",
              " 'В': 37,\n",
              " 'Г': 38,\n",
              " 'Д': 39,\n",
              " 'Е': 40,\n",
              " 'Ж': 41,\n",
              " 'З': 42,\n",
              " 'И': 43,\n",
              " 'К': 44,\n",
              " 'Л': 45,\n",
              " 'М': 46,\n",
              " 'Н': 47,\n",
              " 'О': 48,\n",
              " 'П': 49,\n",
              " 'Р': 50,\n",
              " 'С': 51,\n",
              " 'Т': 52,\n",
              " 'У': 53,\n",
              " 'Ф': 54,\n",
              " 'Х': 55,\n",
              " 'Ц': 56,\n",
              " 'Ч': 57,\n",
              " 'Ш': 58,\n",
              " 'Щ': 59,\n",
              " 'Э': 60,\n",
              " 'Я': 61,\n",
              " 'а': 62,\n",
              " 'б': 63,\n",
              " 'в': 64,\n",
              " 'г': 65,\n",
              " 'д': 66,\n",
              " 'е': 67,\n",
              " 'ж': 68,\n",
              " 'з': 69,\n",
              " 'и': 70,\n",
              " 'й': 71,\n",
              " 'к': 72,\n",
              " 'л': 73,\n",
              " 'м': 74,\n",
              " 'н': 75,\n",
              " 'о': 76,\n",
              " 'п': 77,\n",
              " 'р': 78,\n",
              " 'с': 79,\n",
              " 'т': 80,\n",
              " 'у': 81,\n",
              " 'ф': 82,\n",
              " 'х': 83,\n",
              " 'ц': 84,\n",
              " 'ч': 85,\n",
              " 'ш': 86,\n",
              " 'щ': 87,\n",
              " 'ъ': 88,\n",
              " 'ы': 89,\n",
              " 'ь': 90,\n",
              " 'э': 91,\n",
              " 'ю': 92,\n",
              " 'я': 93,\n",
              " 'ё': 94,\n",
              " '–': 95,\n",
              " '…': 96,\n",
              " '№': 97}"
            ]
          },
          "metadata": {},
          "execution_count": 9
        }
      ],
      "source": [
        "char2idx = {u: i for i, u in enumerate(vocab)}\n",
        "idx2char = np.array(vocab)\n",
        "\n",
        "char2idx"
      ]
    },
    {
      "cell_type": "markdown",
      "metadata": {
        "id": "pXUdoMn9itTM"
      },
      "source": [
        "Преобразование всего текста в числовую форму\n"
      ]
    },
    {
      "cell_type": "code",
      "execution_count": 10,
      "metadata": {
        "colab": {
          "base_uri": "https://localhost:8080/"
        },
        "id": "1ftXzh3vitTN",
        "outputId": "e9833ad4-b0c5-4bb5-9d98-f9d84ccfcfed"
      },
      "outputs": [
        {
          "output_type": "execute_result",
          "data": {
            "text/plain": [
              "array([12, 13,  9, 33,  1, 77, 76,  1, 54, 62, 78, 67, 75, 65, 67, 71, 80,\n",
              "       81,  1, 95,  1, 80, 67, 74, 77, 67, 78, 62, 80, 81, 78, 62,  5,  1,\n",
              "       77, 78, 70,  1, 72, 76, 80, 76, 78, 76, 71,  1, 64, 76, 79, 77, 73,\n",
              "       62, 74, 67, 75, 93, 67, 80, 79, 93,  1, 70,  1, 65, 76, 78, 70, 80,\n",
              "        1, 63, 81, 74, 62, 65, 62,  7])"
            ]
          },
          "metadata": {},
          "execution_count": 10
        }
      ],
      "source": [
        "text_as_int = np.array([char2idx[c] for c in text])\n",
        "text_as_int[86: 162]"
      ]
    },
    {
      "cell_type": "code",
      "execution_count": 11,
      "metadata": {
        "colab": {
          "base_uri": "https://localhost:8080/",
          "height": 35
        },
        "id": "BzRhZyeJitTN",
        "outputId": "cbdc57eb-96b1-4e51-df9e-accb53158597"
      },
      "outputs": [
        {
          "output_type": "execute_result",
          "data": {
            "text/plain": [
              "'451° по Фаренгейту – температура, при которой воспламеняется и горит бумага.'"
            ],
            "application/vnd.google.colaboratory.intrinsic+json": {
              "type": "string"
            }
          },
          "metadata": {},
          "execution_count": 11
        }
      ],
      "source": [
        "def text_from_idx(idx):\n",
        "    return ''.join([idx2char[c] for c in idx])\n",
        "\n",
        "text_from_idx(text_as_int[86: 162])"
      ]
    },
    {
      "cell_type": "markdown",
      "metadata": {
        "id": "GhB2T8qyitTN"
      },
      "source": [
        "Создание датасета"
      ]
    },
    {
      "cell_type": "code",
      "execution_count": 12,
      "metadata": {
        "colab": {
          "base_uri": "https://localhost:8080/"
        },
        "id": "PYzSENfJitTN",
        "outputId": "45a47e3f-b9f4-4294-a455-aa5824ce103b"
      },
      "outputs": [
        {
          "output_type": "execute_result",
          "data": {
            "text/plain": [
              "torch.Size([78154, 101])"
            ]
          },
          "metadata": {},
          "execution_count": 12
        }
      ],
      "source": [
        "examples_per_epoch = len(text) // (SEQ_LENGTH + 1)\n",
        "sequences = torch.tensor(text_as_int, dtype=torch.long).unfold(0, SEQ_LENGTH + 1, 1)\n",
        "sequences.shape"
      ]
    },
    {
      "cell_type": "markdown",
      "metadata": {
        "id": "k_PcCNw0itTO"
      },
      "source": [
        "Разделение на входные и целевые данные"
      ]
    },
    {
      "cell_type": "code",
      "execution_count": 13,
      "metadata": {
        "colab": {
          "base_uri": "https://localhost:8080/"
        },
        "id": "h_9cgyQDitTO",
        "outputId": "58be1357-f2f3-4581-ca84-cdff180fac50"
      },
      "outputs": [
        {
          "output_type": "stream",
          "name": "stdout",
          "text": [
            "torch.Size([78153, 101]) torch.Size([78153, 101])\n"
          ]
        }
      ],
      "source": [
        "def split_input_target(chunk):\n",
        "    input_seq = chunk[:-1]\n",
        "    target_seq = chunk[1:]\n",
        "    return input_seq, target_seq\n",
        "\n",
        "input, label = split_input_target(sequences)\n",
        "\n",
        "print(input.shape, label.shape)"
      ]
    },
    {
      "cell_type": "code",
      "execution_count": 14,
      "metadata": {
        "id": "QS34LDktitTO"
      },
      "outputs": [],
      "source": [
        "dataset = torch.utils.data.TensorDataset(input, label)\n",
        "dataloader = torch.utils.data.DataLoader(dataset, batch_size=BATCH_SIZE, shuffle=True)"
      ]
    },
    {
      "cell_type": "markdown",
      "metadata": {
        "id": "8J-U0bggitTO"
      },
      "source": [
        "Определение модели RNN"
      ]
    },
    {
      "cell_type": "code",
      "execution_count": 15,
      "metadata": {
        "id": "29NpK7EcitTO"
      },
      "outputs": [],
      "source": [
        "class RNN(nn.Module):\n",
        "    def __init__(self, vocab_size, embed_size, hidden_size, num_layers):\n",
        "        super(RNN, self).__init__()\n",
        "        self.num_layers = num_layers\n",
        "        self.hidden_size = hidden_size\n",
        "        self.embed_size = embed_size\n",
        "        self.vocab_size = vocab_size\n",
        "        self.embedding = nn.Embedding(vocab_size, embed_size)\n",
        "        self.rnn = nn.GRU(embed_size, hidden_size, num_layers, batch_first=True)\n",
        "        self.fc = nn.Linear(hidden_size, vocab_size)\n",
        "\n",
        "    def forward(self, x, hidden):\n",
        "        x = self.embedding(x)\n",
        "        out, hidden = self.rnn(x, hidden)\n",
        "        out = self.fc(out.reshape(out.size(0) * out.size(1), out.size(2)))\n",
        "        return out, hidden"
      ]
    },
    {
      "cell_type": "markdown",
      "metadata": {
        "id": "7sNS_bSyitTP"
      },
      "source": [
        "Параметры модели"
      ]
    },
    {
      "cell_type": "code",
      "execution_count": 16,
      "metadata": {
        "colab": {
          "base_uri": "https://localhost:8080/",
          "height": 35
        },
        "id": "eGlvVEu3itTP",
        "outputId": "36b95028-a5cd-41f7-d8fc-f16c6880030c"
      },
      "outputs": [
        {
          "output_type": "execute_result",
          "data": {
            "text/plain": [
              "'cuda'"
            ],
            "application/vnd.google.colaboratory.intrinsic+json": {
              "type": "string"
            }
          },
          "metadata": {},
          "execution_count": 16
        }
      ],
      "source": [
        "DEVICE = 'cuda' if torch.cuda.is_available() else 'cpu'\n",
        "\n",
        "embed_size = 256\n",
        "hidden_size = 512\n",
        "num_layers = 2\n",
        "\n",
        "model = RNN(vocab_size, embed_size, hidden_size, num_layers)\n",
        "\n",
        "criterion = nn.CrossEntropyLoss()\n",
        "optimizer = torch.optim.Adam(model.parameters(), lr=0.001)\n",
        "\n",
        "DEVICE"
      ]
    },
    {
      "cell_type": "code",
      "source": [
        "len(dataloader)"
      ],
      "metadata": {
        "colab": {
          "base_uri": "https://localhost:8080/"
        },
        "id": "53lpWPrZs4oq",
        "outputId": "093ee1e4-ab65-4d46-e2e2-789ac5421fd3"
      },
      "execution_count": 17,
      "outputs": [
        {
          "output_type": "execute_result",
          "data": {
            "text/plain": [
              "1222"
            ]
          },
          "metadata": {},
          "execution_count": 17
        }
      ]
    },
    {
      "cell_type": "markdown",
      "metadata": {
        "id": "XiaxBgZVitTP"
      },
      "source": [
        "Функция обучения модели\n"
      ]
    },
    {
      "cell_type": "code",
      "execution_count": 18,
      "metadata": {
        "id": "UKOtVurZitTP"
      },
      "outputs": [],
      "source": [
        "def train(model, dataloader, epochs, device=\"cpu\"):\n",
        "    model.train().to(device)\n",
        "    for epoch in range(epochs):\n",
        "        hidden = torch.zeros(num_layers, BATCH_SIZE, hidden_size).to(device)\n",
        "        for i, (inputs, targets) in enumerate(dataloader):\n",
        "            inputs, targets = inputs.to(device), targets.to(device)\n",
        "\n",
        "            hidden = hidden.detach().to(device)\n",
        "\n",
        "            if inputs.size(0) != BATCH_SIZE:\n",
        "              hidden = hidden[:, :inputs.size(0), :].contiguous()\n",
        "\n",
        "            optimizer.zero_grad()\n",
        "            output, hidden = model(inputs, hidden)\n",
        "            loss = criterion(output, targets.view(-1))\n",
        "            loss.backward()\n",
        "            optimizer.step()\n",
        "\n",
        "\n",
        "        print(f'Epoch: {epoch+1}, Loss: {loss.item()}')\n"
      ]
    },
    {
      "cell_type": "markdown",
      "metadata": {
        "id": "olE1nLihitTP"
      },
      "source": [
        "Обучение модели"
      ]
    },
    {
      "cell_type": "code",
      "execution_count": 19,
      "metadata": {
        "colab": {
          "base_uri": "https://localhost:8080/"
        },
        "id": "Z5lDxM0jitTP",
        "outputId": "f730527a-7aff-41f0-f527-7f28e844b638"
      },
      "outputs": [
        {
          "output_type": "stream",
          "name": "stdout",
          "text": [
            "Epoch: 1, Loss: 0.25567159056663513\n",
            "Epoch: 2, Loss: 0.19924798607826233\n",
            "Epoch: 3, Loss: 0.16639743745326996\n",
            "Epoch: 4, Loss: 0.19704686105251312\n",
            "Epoch: 5, Loss: 0.14977282285690308\n",
            "Epoch: 6, Loss: 0.16601304709911346\n",
            "Epoch: 7, Loss: 0.15382468700408936\n",
            "Epoch: 8, Loss: 0.1476975679397583\n",
            "Epoch: 9, Loss: 0.14078612625598907\n",
            "Epoch: 10, Loss: 0.18104763329029083\n"
          ]
        }
      ],
      "source": [
        "train(model, dataloader, EPOCHS, DEVICE)"
      ]
    },
    {
      "cell_type": "code",
      "source": [
        "def generate_text(model, start_string, generation_length=100, device=\"cpu\"):\n",
        "    input_indices = [char2idx[c] for c in start_string]\n",
        "    input_tensor = torch.tensor(input_indices, dtype=torch.long).unsqueeze(0).to(device)\n",
        "\n",
        "    model.eval().to(device)\n",
        "\n",
        "    hidden = torch.zeros(num_layers, 1, hidden_size).to(device)\n",
        "\n",
        "    generated_text = start_string\n",
        "\n",
        "    for _ in range(generation_length):\n",
        "        output, hidden = model(input_tensor, hidden)\n",
        "\n",
        "        predicted_idx = torch.argmax(output[-1], dim=-1).item()\n",
        "\n",
        "        predicted_char = idx2char[predicted_idx]\n",
        "\n",
        "        generated_text += predicted_char\n",
        "\n",
        "        input_tensor = torch.tensor([[predicted_idx]], dtype=torch.long).to(device)\n",
        "\n",
        "    return generated_text"
      ],
      "metadata": {
        "id": "7swfYolJCDc5"
      },
      "execution_count": 20,
      "outputs": []
    },
    {
      "cell_type": "markdown",
      "source": [],
      "metadata": {
        "id": "DZq8xskeTiUa"
      }
    },
    {
      "cell_type": "code",
      "source": [
        "generated_text = generate_text(model, start_string=\"Огонь\", generation_length=100, device=DEVICE)\n",
        "print(generated_text)"
      ],
      "metadata": {
        "colab": {
          "base_uri": "https://localhost:8080/"
        },
        "id": "SUQpoWzSCKre",
        "outputId": "ccb5f1ff-e656-429e-8251-67f46c398ea2"
      },
      "execution_count": 26,
      "outputs": [
        {
          "output_type": "stream",
          "name": "stdout",
          "text": [
            "Огонь разжигать быстро.\n",
            "\n",
            "Правило 3. Сжигать всё.\n",
            "\n",
            "Правило 4. Возвращаться на пожарную станцию немедленно.\n"
          ]
        }
      ]
    }
  ],
  "metadata": {
    "kernelspec": {
      "display_name": "Python 3",
      "name": "python3"
    },
    "language_info": {
      "codemirror_mode": {
        "name": "ipython",
        "version": 3
      },
      "file_extension": ".py",
      "mimetype": "text/x-python",
      "name": "python",
      "nbconvert_exporter": "python",
      "pygments_lexer": "ipython3",
      "version": "3.9.18"
    },
    "colab": {
      "provenance": [],
      "gpuType": "T4"
    },
    "accelerator": "GPU"
  },
  "nbformat": 4,
  "nbformat_minor": 0
}