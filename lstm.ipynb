{
 "cells": [
  {
   "attachments": {},
   "cell_type": "markdown",
   "metadata": {},
   "source": [
    "Однонаправленная LSTM"
   ]
  },
  {
   "attachments": {},
   "cell_type": "markdown",
   "metadata": {},
   "source": [
    "Импортируем необходимые зависимости"
   ]
  },
  {
   "cell_type": "code",
   "execution_count": 1,
   "metadata": {
    "ExecuteTime": {
     "end_time": "2023-06-03T12:58:41.229457500Z",
     "start_time": "2023-06-03T12:58:41.204268200Z"
    }
   },
   "outputs": [],
   "source": [
    "import numpy as np\n",
    "import re\n",
    "import nltk\n",
    "from nltk.tokenize import word_tokenize\n",
    "import torch\n",
    "import torch.nn as nn\n",
    "import torch.optim as optim\n",
    "from torch.utils.data import Dataset, DataLoader"
   ]
  },
  {
   "attachments": {},
   "cell_type": "markdown",
   "metadata": {},
   "source": [
    "Загрузим текст для обучения из txt файла"
   ]
  },
  {
   "cell_type": "code",
   "execution_count": 37,
   "metadata": {
    "ExecuteTime": {
     "end_time": "2023-06-03T12:58:42.500997600Z",
     "start_time": "2023-06-03T12:58:42.461998700Z"
    }
   },
   "outputs": [],
   "source": [
    "with open('451.txt', 'r', encoding='windows-1251') as file:\n",
    "    text = file.read()"
   ]
  },
  {
   "attachments": {},
   "cell_type": "markdown",
   "metadata": {},
   "source": [
    "Создадим токенизатор и словарь слов"
   ]
  },
  {
   "cell_type": "code",
   "execution_count": 15,
   "metadata": {},
   "outputs": [
    {
     "name": "stderr",
     "output_type": "stream",
     "text": [
      "[nltk_data] Downloading package punkt to C:\\Users\\asus\n",
      "[nltk_data]     rog\\AppData\\Roaming\\nltk_data...\n",
      "[nltk_data]   Unzipping tokenizers\\punkt.zip.\n"
     ]
    },
    {
     "data": {
      "text/plain": [
       "True"
      ]
     },
     "execution_count": 15,
     "metadata": {},
     "output_type": "execute_result"
    }
   ],
   "source": [
    "nltk.download('punkt')"
   ]
  },
  {
   "cell_type": "code",
   "execution_count": 38,
   "metadata": {
    "ExecuteTime": {
     "end_time": "2023-06-03T12:58:43.966058600Z",
     "start_time": "2023-06-03T12:58:43.822517Z"
    }
   },
   "outputs": [],
   "source": [
    "tokens = word_tokenize(text.lower())\n",
    "vocab = {word: i+1 for i, word in enumerate(set(tokens))}\n",
    "encoded_text = [vocab[word] for word in tokens]\n",
    "\n",
    "# Определим собственный Dataset для данных\n",
    "class TextDataset(Dataset):\n",
    "    def __init__(self, text, seq_length):\n",
    "        self.text = text\n",
    "        self.seq_length = seq_length\n",
    "    \n",
    "    def __len__(self):\n",
    "        return len(self.text) - self.seq_length\n",
    "    \n",
    "    def __getitem__(self, idx):\n",
    "        return (torch.tensor(self.text[idx:idx+self.seq_length], dtype=torch.long),\n",
    "                torch.tensor(self.text[idx+self.seq_length], dtype=torch.long))\n",
    "\n"
   ]
  },
  {
   "attachments": {},
   "cell_type": "markdown",
   "metadata": {},
   "source": [
    "Создадим обучающие примеры"
   ]
  },
  {
   "attachments": {},
   "cell_type": "markdown",
   "metadata": {},
   "source": [
    "Создадим и обучим модель"
   ]
  },
  {
   "cell_type": "code",
   "execution_count": 39,
   "metadata": {
    "ExecuteTime": {
     "end_time": "2023-06-03T12:58:49.343660400Z",
     "start_time": "2023-06-03T12:58:49.049514Z"
    },
    "collapsed": false
   },
   "outputs": [],
   "source": [
    "class LSTMModel(nn.Module):\n",
    "    def __init__(self, vocab_size, embedding_dim, hidden_dim, output_dim):\n",
    "        super(LSTMModel, self).__init__()\n",
    "        self.embedding = nn.Embedding(vocab_size, embedding_dim)\n",
    "        self.lstm = nn.LSTM(embedding_dim, hidden_dim, batch_first=True)\n",
    "        self.fc = nn.Linear(hidden_dim, output_dim)\n",
    "    \n",
    "    def forward(self, x):\n",
    "        x = self.embedding(x)\n",
    "        lstm_out, _ = self.lstm(x)\n",
    "        out = self.fc(lstm_out[:, -1, :])\n",
    "        return out"
   ]
  },
  {
   "cell_type": "code",
   "execution_count": 40,
   "metadata": {
    "ExecuteTime": {
     "end_time": "2023-06-03T13:34:37.485930100Z",
     "start_time": "2023-06-03T13:12:46.792127500Z"
    },
    "collapsed": false
   },
   "outputs": [
    {
     "name": "stdout",
     "output_type": "stream",
     "text": [
      "Epoch 1, Loss: 6.95306219498804\n",
      "Epoch 2, Loss: 6.090884950750932\n",
      "Epoch 3, Loss: 5.51571098475856\n",
      "Epoch 4, Loss: 4.862567483281797\n",
      "Epoch 5, Loss: 4.203318611488264\n",
      "Epoch 6, Loss: 3.5787203594707027\n",
      "Epoch 7, Loss: 3.0066154988021694\n",
      "Epoch 8, Loss: 2.495000257082512\n",
      "Epoch 9, Loss: 2.0501089744528866\n",
      "Epoch 10, Loss: 1.6944604362446838\n"
     ]
    }
   ],
   "source": [
    "vocab_size = len(vocab) + 1  # размер словаря\n",
    "embedding_dim = 128\n",
    "hidden_dim = 128\n",
    "output_dim = vocab_size\n",
    "seq_length = 50\n",
    "batch_size = 32\n",
    "\n",
    "# Создаем Dataset и DataLoader\n",
    "dataset = TextDataset(encoded_text, seq_length)\n",
    "dataloader = DataLoader(dataset, batch_size=batch_size, shuffle=True)\n",
    "\n",
    "# Инициализируем модель, функцию потерь и оптимизатор\n",
    "model = LSTMModel(vocab_size, embedding_dim, hidden_dim, output_dim)\n",
    "criterion = nn.CrossEntropyLoss()\n",
    "optimizer = optim.Adam(model.parameters(), lr=0.001)\n",
    "\n",
    "\n",
    "# Процесс обучения\n",
    "num_epochs = 10\n",
    "\n",
    "for epoch in range(num_epochs):\n",
    "    model.train()\n",
    "    total_loss = 0\n",
    "    \n",
    "    for inputs, targets in dataloader:\n",
    "        optimizer.zero_grad()\n",
    "        outputs = model(inputs)\n",
    "        loss = criterion(outputs, targets)\n",
    "        loss.backward()\n",
    "        optimizer.step()\n",
    "        total_loss += loss.item()\n",
    "    \n",
    "    print(f'Epoch {epoch+1}, Loss: {total_loss/len(dataloader)}')\n",
    "\n"
   ]
  },
  {
   "attachments": {},
   "cell_type": "markdown",
   "metadata": {},
   "source": [
    "Попробуем сгенерировать текст"
   ]
  },
  {
   "cell_type": "code",
   "execution_count": 41,
   "metadata": {
    "ExecuteTime": {
     "end_time": "2023-06-03T13:11:56.780747200Z",
     "start_time": "2023-06-03T13:11:56.751371200Z"
    }
   },
   "outputs": [],
   "source": [
    "import torch.nn.functional as F\n",
    "\n",
    "def generate_text(model, start_text, vocab, inv_vocab, seq_length=50, gen_length=100):\n",
    "    model.eval()  # переводим модель в режим оценки\n",
    "    \n",
    "    # Токенизация стартового текста\n",
    "    tokens = word_tokenize(start_text.lower())\n",
    "    input_seq = [vocab.get(word, 0) for word in tokens]\n",
    "    \n",
    "    # Генерация текста\n",
    "    generated_text = start_text\n",
    "    \n",
    "    for _ in range(gen_length):\n",
    "        input_tensor = torch.tensor(input_seq[-seq_length:]).unsqueeze(0)  # добавляем batch dimension\n",
    "        with torch.no_grad():\n",
    "            output = model(input_tensor)\n",
    "        \n",
    "        # Предсказание следующего слова\n",
    "        probs = F.softmax(output, dim=-1)\n",
    "        next_word_idx = torch.argmax(probs, dim=-1).item()\n",
    "        next_word = inv_vocab.get(next_word_idx, '<unk>')\n",
    "        \n",
    "        # Добавляем новое слово в последовательность\n",
    "        generated_text += ' ' + next_word\n",
    "        input_seq.append(next_word_idx)\n",
    "    \n",
    "    return generated_text\n",
    "\n"
   ]
  },
  {
   "cell_type": "code",
   "execution_count": 46,
   "metadata": {
    "ExecuteTime": {
     "end_time": "2023-06-03T13:35:11.590392200Z",
     "start_time": "2023-06-03T13:35:08.742383800Z"
    }
   },
   "outputs": [
    {
     "name": "stdout",
     "output_type": "stream",
     "text": [
      "Начнем что ночью он вздрогнул « обществом » , а может быть , кожей лица и тыльной стороны ладоней он именно в этом месте ощущал некое потепление воздуха , ибо невидимка одним своим присутствием мог на пять-шесть градусов поднять температуру окружающей его атмосферы , на мир , как пустота , на определенные аминокислоты . – она погремела в пригоршне каштанами , чтобы коснуться щеки . монтаг , дрожа , как на мир , а глаза , а целых трех ? – и перескок он . – но многие же боятся . они просто ушли , чтобы искрой зажигателя воспламенить керосин .\n"
     ]
    }
   ],
   "source": [
    "# Создание обратного словаря (индекс -> слово)\n",
    "inv_vocab = {i: word for word, i in vocab.items()}\n",
    "\n",
    "# Генерация текста\n",
    "start_text = \"Начнем\"\n",
    "generated_text = generate_text(model, start_text, vocab, inv_vocab, seq_length=50, gen_length=100)\n",
    "print(generated_text)"
   ]
  },
  {
   "cell_type": "code",
   "execution_count": 9,
   "metadata": {
    "ExecuteTime": {
     "end_time": "2023-06-03T12:56:00.165062600Z",
     "start_time": "2023-06-03T12:56:00.090863900Z"
    },
    "collapsed": false
   },
   "outputs": [],
   "source": []
  },
  {
   "cell_type": "code",
   "execution_count": null,
   "metadata": {
    "collapsed": false
   },
   "outputs": [],
   "source": []
  }
 ],
 "metadata": {
  "kernelspec": {
   "display_name": "base",
   "language": "python",
   "name": "python3"
  },
  "language_info": {
   "codemirror_mode": {
    "name": "ipython",
    "version": 3
   },
   "file_extension": ".py",
   "mimetype": "text/x-python",
   "name": "python",
   "nbconvert_exporter": "python",
   "pygments_lexer": "ipython3",
   "version": "3.9.18"
  },
  "orig_nbformat": 4
 },
 "nbformat": 4,
 "nbformat_minor": 2
}
